{
 "cells": [
  {
   "cell_type": "code",
   "execution_count": 1,
   "metadata": {},
   "outputs": [],
   "source": [
    "%load_ext autoreload\n",
    "%autoreload 2\n",
    "\n",
    "import torch\n",
    "import torchvision.models\n",
    "from PIL import Image\n",
    "import numpy as np\n",
    "import cv2\n",
    "import matplotlib.pyplot as plt\n",
    "from lib.autoencoder import FeatureEncoder\n",
    "from lib.attention_model import AttentionLayer\n",
    "from lib.correspondence_datamodule import CorrespondenceDataModule\n",
    "\n"
   ]
  },
  {
   "cell_type": "code",
   "execution_count": null,
   "metadata": {},
   "outputs": [
    {
     "name": "stderr",
     "output_type": "stream",
     "text": [
      "\r",
      "  0%|          | 0/1 [00:00<?, ?it/s]"
     ]
    },
    {
     "name": "stdout",
     "output_type": "stream",
     "text": [
      "Building a new training dataset...\n"
     ]
    }
   ],
   "source": [
    "megadepth_path = \"/mnt/c/Users/phill/polybox/Deep Learning/MegaDepthDataset/\"\n",
    "data_module = CorrespondenceDataModule(base_path=megadepth_path, batch_size=8)\n",
    "data_module.prepare_data()\n",
    "data_module.setup(stage='fit')\n",
    "dl_train = data_module.train_dataloader()\n",
    "dl_val = data_module.val_dataloader()\n",
    "\n",
    "sample_train = next(iter(dl_train))"
   ]
  },
  {
   "cell_type": "code",
   "execution_count": null,
   "metadata": {},
   "outputs": [],
   "source": [
    "sample_train[\"image1\"].shape"
   ]
  },
  {
   "cell_type": "code",
   "execution_count": null,
   "metadata": {},
   "outputs": [],
   "source": [
    "autoencoder = FeatureEncoder()\n",
    "[x_early, x_middle, x_deep] = autoencoder.get_resnet_layers(sample_train[\"image1\"])\n",
    "(x_early.shape, x_middle.shape, x_deep.shape)"
   ]
  },
  {
   "cell_type": "code",
   "execution_count": null,
   "metadata": {},
   "outputs": [],
   "source": [
    "[z_early, z_middle, z_deep] = autoencoder(sample_train[\"image1\"])\n",
    "(z_early.shape, z_middle.shape, z_deep.shape)"
   ]
  },
  {
   "cell_type": "code",
   "execution_count": null,
   "metadata": {},
   "outputs": [],
   "source": []
  }
 ],
 "metadata": {
  "kernelspec": {
   "display_name": "Python 3.6.8 64-bit",
   "language": "python",
   "name": "python36864bit03d3002403754c398b1cb8f8a691cb17"
  },
  "language_info": {
   "codemirror_mode": {
    "name": "ipython",
    "version": 3
   },
   "file_extension": ".py",
   "mimetype": "text/x-python",
   "name": "python",
   "nbconvert_exporter": "python",
   "pygments_lexer": "ipython3",
   "version": "3.6.9"
  }
 },
 "nbformat": 4,
 "nbformat_minor": 4
}
