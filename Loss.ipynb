{
 "cells": [
  {
   "cell_type": "code",
   "execution_count": 20,
   "metadata": {},
   "outputs": [
    {
     "name": "stdout",
     "output_type": "stream",
     "text": [
      "The autoreload extension is already loaded. To reload it, use:\n",
      "  %reload_ext autoreload\n"
     ]
    }
   ],
   "source": [
    "%load_ext autoreload\n",
    "%autoreload 2\n",
    "\n",
    "import torch\n",
    "import torchvision.models\n",
    "from PIL import Image\n",
    "import numpy as nps\n",
    "import matplotlib.pyplot as plt\n",
    "from lib.autoencoder import *\n",
    "from lib.attention_model import AttentionLayer, MultiAttentionLayer\n",
    "from lib.correspondence_datamodule import CorrespondenceDataModule\n",
    "from lib.warping import *\n",
    "from externals.d2net.lib.utils import *"
   ]
  },
  {
   "cell_type": "code",
   "execution_count": 2,
   "metadata": {},
   "outputs": [
    {
     "name": "stderr",
     "output_type": "stream",
     "text": [
      "\r",
      "  0%|          | 0/1 [00:00<?, ?it/s]"
     ]
    },
    {
     "name": "stdout",
     "output_type": "stream",
     "text": [
      "Building a new training dataset...\n"
     ]
    },
    {
     "name": "stderr",
     "output_type": "stream",
     "text": [
      "100%|██████████| 1/1 [00:04<00:00,  4.92s/it]\n",
      "  0%|          | 0/1 [00:00<?, ?it/s]"
     ]
    },
    {
     "name": "stdout",
     "output_type": "stream",
     "text": [
      "Building the validation dataset...\n"
     ]
    },
    {
     "name": "stderr",
     "output_type": "stream",
     "text": [
      "100%|██████████| 1/1 [00:04<00:00,  4.48s/it]\n"
     ]
    }
   ],
   "source": [
    "megadepth_path = \"/mnt/c/Users/phill/polybox/Deep Learning/MegaDepthDataset\"\n",
    "data_module = CorrespondenceDataModule(base_path=megadepth_path, batch_size=1)\n",
    "data_module.prepare_data()\n",
    "data_module.setup(stage='fit')\n",
    "dl_train = data_module.train_dataloader()\n",
    "dl_val = data_module.val_dataloader()\n",
    "\n"
   ]
  },
  {
   "cell_type": "code",
   "execution_count": null,
   "metadata": {},
   "outputs": [],
   "source": []
  },
  {
   "cell_type": "code",
   "execution_count": 3,
   "metadata": {},
   "outputs": [],
   "source": [
    "batch = next(iter(dl_train))\n"
   ]
  },
  {
   "cell_type": "code",
   "execution_count": 4,
   "metadata": {},
   "outputs": [
    {
     "data": {
      "text/plain": [
       "torch.Size([1, 3, 256, 256])"
      ]
     },
     "execution_count": 4,
     "metadata": {},
     "output_type": "execute_result"
    }
   ],
   "source": [
    "batch[\"image1\"].shape"
   ]
  },
  {
   "cell_type": "code",
   "execution_count": 29,
   "metadata": {
    "scrolled": true
   },
   "outputs": [
    {
     "name": "stderr",
     "output_type": "stream",
     "text": [
      "WARNING:absl:Failed to find a mapping for bn1.num_batches_tracked\n",
      "WARNING:absl:Failed to find a mapping for layer1.0.bn1.num_batches_tracked\n",
      "WARNING:absl:Failed to find a mapping for layer1.0.bn2.num_batches_tracked\n",
      "WARNING:absl:Failed to find a mapping for layer1.0.bn3.num_batches_tracked\n",
      "WARNING:absl:Failed to find a mapping for layer1.0.downsample.1.num_batches_tracked\n",
      "WARNING:absl:Failed to find a mapping for layer1.1.bn1.num_batches_tracked\n",
      "WARNING:absl:Failed to find a mapping for layer1.1.bn2.num_batches_tracked\n",
      "WARNING:absl:Failed to find a mapping for layer1.1.bn3.num_batches_tracked\n",
      "WARNING:absl:Failed to find a mapping for layer1.2.bn1.num_batches_tracked\n",
      "WARNING:absl:Failed to find a mapping for layer1.2.bn2.num_batches_tracked\n",
      "WARNING:absl:Failed to find a mapping for layer1.2.bn3.num_batches_tracked\n",
      "WARNING:absl:Failed to find a mapping for layer2.0.bn1.num_batches_tracked\n",
      "WARNING:absl:Failed to find a mapping for layer2.0.bn2.num_batches_tracked\n",
      "WARNING:absl:Failed to find a mapping for layer2.0.bn3.num_batches_tracked\n",
      "WARNING:absl:Failed to find a mapping for layer2.0.downsample.1.num_batches_tracked\n",
      "WARNING:absl:Failed to find a mapping for layer2.1.bn1.num_batches_tracked\n",
      "WARNING:absl:Failed to find a mapping for layer2.1.bn2.num_batches_tracked\n",
      "WARNING:absl:Failed to find a mapping for layer2.1.bn3.num_batches_tracked\n",
      "WARNING:absl:Failed to find a mapping for layer2.2.bn1.num_batches_tracked\n",
      "WARNING:absl:Failed to find a mapping for layer2.2.bn2.num_batches_tracked\n",
      "WARNING:absl:Failed to find a mapping for layer2.2.bn3.num_batches_tracked\n",
      "WARNING:absl:Failed to find a mapping for layer2.3.bn1.num_batches_tracked\n",
      "WARNING:absl:Failed to find a mapping for layer2.3.bn2.num_batches_tracked\n",
      "WARNING:absl:Failed to find a mapping for layer2.3.bn3.num_batches_tracked\n",
      "WARNING:absl:Failed to find a mapping for layer3.0.bn1.num_batches_tracked\n",
      "WARNING:absl:Failed to find a mapping for layer3.0.bn2.num_batches_tracked\n",
      "WARNING:absl:Failed to find a mapping for layer3.0.bn3.num_batches_tracked\n",
      "WARNING:absl:Failed to find a mapping for layer3.0.downsample.1.num_batches_tracked\n",
      "WARNING:absl:Failed to find a mapping for layer3.1.bn1.num_batches_tracked\n",
      "WARNING:absl:Failed to find a mapping for layer3.1.bn2.num_batches_tracked\n",
      "WARNING:absl:Failed to find a mapping for layer3.1.bn3.num_batches_tracked\n",
      "WARNING:absl:Failed to find a mapping for layer3.2.bn1.num_batches_tracked\n",
      "WARNING:absl:Failed to find a mapping for layer3.2.bn2.num_batches_tracked\n",
      "WARNING:absl:Failed to find a mapping for layer3.2.bn3.num_batches_tracked\n",
      "WARNING:absl:Failed to find a mapping for layer3.3.bn1.num_batches_tracked\n",
      "WARNING:absl:Failed to find a mapping for layer3.3.bn2.num_batches_tracked\n",
      "WARNING:absl:Failed to find a mapping for layer3.3.bn3.num_batches_tracked\n",
      "WARNING:absl:Failed to find a mapping for layer3.4.bn1.num_batches_tracked\n",
      "WARNING:absl:Failed to find a mapping for layer3.4.bn2.num_batches_tracked\n",
      "WARNING:absl:Failed to find a mapping for layer3.4.bn3.num_batches_tracked\n",
      "WARNING:absl:Failed to find a mapping for layer3.5.bn1.num_batches_tracked\n",
      "WARNING:absl:Failed to find a mapping for layer3.5.bn2.num_batches_tracked\n",
      "WARNING:absl:Failed to find a mapping for layer3.5.bn3.num_batches_tracked\n",
      "WARNING:absl:Failed to find a mapping for layer4.0.bn1.num_batches_tracked\n",
      "WARNING:absl:Failed to find a mapping for layer4.0.bn2.num_batches_tracked\n",
      "WARNING:absl:Failed to find a mapping for layer4.0.bn3.num_batches_tracked\n",
      "WARNING:absl:Failed to find a mapping for layer4.0.downsample.1.num_batches_tracked\n",
      "WARNING:absl:Failed to find a mapping for layer4.1.bn1.num_batches_tracked\n",
      "WARNING:absl:Failed to find a mapping for layer4.1.bn2.num_batches_tracked\n",
      "WARNING:absl:Failed to find a mapping for layer4.1.bn3.num_batches_tracked\n",
      "WARNING:absl:Failed to find a mapping for layer4.2.bn1.num_batches_tracked\n",
      "WARNING:absl:Failed to find a mapping for layer4.2.bn2.num_batches_tracked\n",
      "WARNING:absl:Failed to find a mapping for layer4.2.bn3.num_batches_tracked\n",
      "WARNING:absl:Failed to find a mapping for fc.weight\n",
      "WARNING:absl:Failed to find a mapping for fc.bias\n",
      "WARNING:absl:Failed to find a mapping for bn1.num_batches_tracked\n",
      "WARNING:absl:Failed to find a mapping for layer1.0.bn1.num_batches_tracked\n",
      "WARNING:absl:Failed to find a mapping for layer1.0.bn2.num_batches_tracked\n",
      "WARNING:absl:Failed to find a mapping for layer1.0.bn3.num_batches_tracked\n",
      "WARNING:absl:Failed to find a mapping for layer1.0.downsample.1.num_batches_tracked\n",
      "WARNING:absl:Failed to find a mapping for layer1.1.bn1.num_batches_tracked\n",
      "WARNING:absl:Failed to find a mapping for layer1.1.bn2.num_batches_tracked\n",
      "WARNING:absl:Failed to find a mapping for layer1.1.bn3.num_batches_tracked\n",
      "WARNING:absl:Failed to find a mapping for layer1.2.bn1.num_batches_tracked\n",
      "WARNING:absl:Failed to find a mapping for layer1.2.bn2.num_batches_tracked\n",
      "WARNING:absl:Failed to find a mapping for layer1.2.bn3.num_batches_tracked\n",
      "WARNING:absl:Failed to find a mapping for layer2.0.bn1.num_batches_tracked\n",
      "WARNING:absl:Failed to find a mapping for layer2.0.bn2.num_batches_tracked\n",
      "WARNING:absl:Failed to find a mapping for layer2.0.bn3.num_batches_tracked\n",
      "WARNING:absl:Failed to find a mapping for layer2.0.downsample.1.num_batches_tracked\n",
      "WARNING:absl:Failed to find a mapping for layer2.1.bn1.num_batches_tracked\n",
      "WARNING:absl:Failed to find a mapping for layer2.1.bn2.num_batches_tracked\n",
      "WARNING:absl:Failed to find a mapping for layer2.1.bn3.num_batches_tracked\n",
      "WARNING:absl:Failed to find a mapping for layer2.2.bn1.num_batches_tracked\n",
      "WARNING:absl:Failed to find a mapping for layer2.2.bn2.num_batches_tracked\n",
      "WARNING:absl:Failed to find a mapping for layer2.2.bn3.num_batches_tracked\n",
      "WARNING:absl:Failed to find a mapping for layer2.3.bn1.num_batches_tracked\n",
      "WARNING:absl:Failed to find a mapping for layer2.3.bn2.num_batches_tracked\n",
      "WARNING:absl:Failed to find a mapping for layer2.3.bn3.num_batches_tracked\n",
      "WARNING:absl:Failed to find a mapping for layer3.0.bn1.num_batches_tracked\n",
      "WARNING:absl:Failed to find a mapping for layer3.0.bn2.num_batches_tracked\n",
      "WARNING:absl:Failed to find a mapping for layer3.0.bn3.num_batches_tracked\n",
      "WARNING:absl:Failed to find a mapping for layer3.0.downsample.1.num_batches_tracked\n",
      "WARNING:absl:Failed to find a mapping for layer3.1.bn1.num_batches_tracked\n",
      "WARNING:absl:Failed to find a mapping for layer3.1.bn2.num_batches_tracked\n",
      "WARNING:absl:Failed to find a mapping for layer3.1.bn3.num_batches_tracked\n",
      "WARNING:absl:Failed to find a mapping for layer3.2.bn1.num_batches_tracked\n",
      "WARNING:absl:Failed to find a mapping for layer3.2.bn2.num_batches_tracked\n",
      "WARNING:absl:Failed to find a mapping for layer3.2.bn3.num_batches_tracked\n",
      "WARNING:absl:Failed to find a mapping for layer3.3.bn1.num_batches_tracked\n",
      "WARNING:absl:Failed to find a mapping for layer3.3.bn2.num_batches_tracked\n",
      "WARNING:absl:Failed to find a mapping for layer3.3.bn3.num_batches_tracked\n",
      "WARNING:absl:Failed to find a mapping for layer3.4.bn1.num_batches_tracked\n",
      "WARNING:absl:Failed to find a mapping for layer3.4.bn2.num_batches_tracked\n",
      "WARNING:absl:Failed to find a mapping for layer3.4.bn3.num_batches_tracked\n",
      "WARNING:absl:Failed to find a mapping for layer3.5.bn1.num_batches_tracked\n",
      "WARNING:absl:Failed to find a mapping for layer3.5.bn2.num_batches_tracked\n",
      "WARNING:absl:Failed to find a mapping for layer3.5.bn3.num_batches_tracked\n",
      "WARNING:absl:Failed to find a mapping for layer4.0.bn1.num_batches_tracked\n",
      "WARNING:absl:Failed to find a mapping for layer4.0.bn2.num_batches_tracked\n",
      "WARNING:absl:Failed to find a mapping for layer4.0.bn3.num_batches_tracked\n",
      "WARNING:absl:Failed to find a mapping for layer4.0.downsample.1.num_batches_tracked\n",
      "WARNING:absl:Failed to find a mapping for layer4.1.bn1.num_batches_tracked\n",
      "WARNING:absl:Failed to find a mapping for layer4.1.bn2.num_batches_tracked\n",
      "WARNING:absl:Failed to find a mapping for layer4.1.bn3.num_batches_tracked\n",
      "WARNING:absl:Failed to find a mapping for layer4.2.bn1.num_batches_tracked\n",
      "WARNING:absl:Failed to find a mapping for layer4.2.bn2.num_batches_tracked\n",
      "WARNING:absl:Failed to find a mapping for layer4.2.bn3.num_batches_tracked\n",
      "WARNING:absl:Failed to find a mapping for fc.weight\n",
      "WARNING:absl:Failed to find a mapping for fc.bias\n"
     ]
    },
    {
     "name": "stdout",
     "output_type": "stream",
     "text": [
      "tensor([3.0579], grad_fn=<AddBackward0>)\n"
     ]
    }
   ],
   "source": [
    "x1 = batch['image1']\n",
    "x2 = batch[\"image2\"]\n",
    "feature_encoder = FeatureEncoder1().load_from_checkpoint(\"lightning_logs/version_2/checkpoints/epoch=50-step=7394.ckpt\").requires_grad_(False)\n",
    "attention_model = MultiAttentionLayer(feature_encoder)\n",
    "attention_model.freeze()\n",
    "# with torch.no_grad():\n",
    "#     x1_encoded = attention_model.concat_layers(attention_model.feature_encoder.forward(x1)) #bx48x32x32\n",
    "#     x2_encoded = attention_model.concat_layers(attention_model.feature_encoder.forward(x2))\n",
    "\n",
    "\n",
    "# print(x1_encoded.shape)\n",
    "# print(x2_encoded.shape)\n",
    "# x1_encoded.requires_grad = False\n",
    "# x2_encoded.requires_grad = False\n",
    "# y1 = attention_model.forward(batch[\"image1\"]) #bx1x32x32\n",
    "# y2 = attention_model.forward(batch[\"image2\"])\n",
    "\n",
    "# print(y1.shape)\n",
    "# print(y2.shape)\n",
    "\n",
    "# print(x1_encoded[0,0,0,0])\n",
    "\n",
    "loss = attention_model.training_step(batch, 0)\n",
    "\n",
    "print(loss)\n",
    "# print(loss)\n",
    "# print(loss.shape)"
   ]
  },
  {
   "cell_type": "code",
   "execution_count": null,
   "metadata": {},
   "outputs": [],
   "source": []
  },
  {
   "cell_type": "code",
   "execution_count": null,
   "metadata": {},
   "outputs": [],
   "source": []
  }
 ],
 "metadata": {
  "kernelspec": {
   "display_name": "Python 3.6.8 64-bit",
   "language": "python",
   "name": "python36864bit03d3002403754c398b1cb8f8a691cb17"
  },
  "language_info": {
   "codemirror_mode": {
    "name": "ipython",
    "version": 3
   },
   "file_extension": ".py",
   "mimetype": "text/x-python",
   "name": "python",
   "nbconvert_exporter": "python",
   "pygments_lexer": "ipython3",
   "version": "3.6.9"
  }
 },
 "nbformat": 4,
 "nbformat_minor": 4
}
